{
  "nbformat": 4,
  "nbformat_minor": 0,
  "metadata": {
    "colab": {
      "provenance": [],
      "authorship_tag": "ABX9TyMSI192Y/c9cH2vDFS60q4P",
      "include_colab_link": true
    },
    "kernelspec": {
      "name": "python3",
      "display_name": "Python 3"
    },
    "language_info": {
      "name": "python"
    }
  },
  "cells": [
    {
      "cell_type": "markdown",
      "metadata": {
        "id": "view-in-github",
        "colab_type": "text"
      },
      "source": [
        "<a href=\"https://colab.research.google.com/github/KarlSiegfredReyes/PLNG211-QC/blob/main/Reyes%2C%20Karl%20Siegfred_Exercise1.ipynb\" target=\"_parent\"><img src=\"https://colab.research.google.com/assets/colab-badge.svg\" alt=\"Open In Colab\"/></a>"
      ]
    },
    {
      "cell_type": "code",
      "execution_count": 1,
      "metadata": {
        "colab": {
          "base_uri": "https://localhost:8080/"
        },
        "id": "_Bu2d3JU0dEV",
        "outputId": "c9a34f60-810c-461e-a4fb-0592ef10fd97"
      },
      "outputs": [
        {
          "output_type": "stream",
          "name": "stdout",
          "text": [
            "here you go  186\n"
          ]
        }
      ],
      "source": [
        "test = [26,49,98,87,62,75]\n",
        "z = 0\n",
        "\n",
        "for x in test:\n",
        "    if x%2==0:\n",
        "        z=z+x\n",
        "print(\"here you go \", z)"
      ]
    }
  ]
}