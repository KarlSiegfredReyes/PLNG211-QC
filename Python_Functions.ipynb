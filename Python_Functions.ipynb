{
  "nbformat": 4,
  "nbformat_minor": 0,
  "metadata": {
    "colab": {
      "provenance": [],
      "authorship_tag": "ABX9TyNrqWog3Ms480znDnT2MOgT",
      "include_colab_link": true
    },
    "kernelspec": {
      "name": "python3",
      "display_name": "Python 3"
    },
    "language_info": {
      "name": "python"
    }
  },
  "cells": [
    {
      "cell_type": "markdown",
      "metadata": {
        "id": "view-in-github",
        "colab_type": "text"
      },
      "source": [
        "<a href=\"https://colab.research.google.com/github/KarlSiegfredReyes/PLNG211-QC/blob/main/Python_Functions.ipynb\" target=\"_parent\"><img src=\"https://colab.research.google.com/assets/colab-badge.svg\" alt=\"Open In Colab\"/></a>"
      ]
    },
    {
      "cell_type": "markdown",
      "source": [
        "Built-in functions"
      ],
      "metadata": {
        "id": "aXGhgF9PiNwp"
      }
    },
    {
      "cell_type": "code",
      "execution_count": 1,
      "metadata": {
        "colab": {
          "base_uri": "https://localhost:8080/"
        },
        "id": "QRVmILnHiEOZ",
        "outputId": "798eab79-cfaf-4975-ad82-d5b6cd6d7b28"
      },
      "outputs": [
        {
          "output_type": "stream",
          "name": "stdout",
          "text": [
            "2\n",
            "7\n",
            "5\n"
          ]
        }
      ],
      "source": [
        "import math\n",
        "\n",
        "print(min(2,3,4))\n",
        "print(max(2,-3,4,7,-5))\n",
        "print(max(2,-3,min(4,7),5))"
      ]
    },
    {
      "cell_type": "markdown",
      "source": [
        "Sum Average and Sum of Squares"
      ],
      "metadata": {
        "id": "uGbSz75uiVPE"
      }
    },
    {
      "cell_type": "code",
      "source": [
        "import math\n",
        "\n",
        "def sum(x,y,z):\n",
        "    return x+y+z\n",
        "def average(x,y,z):\n",
        "    return (x+y+z)/3\n",
        "def square(x,y,z):\n",
        "    return math.pow(x,2) + math.pow(y,2) + math.pow(z,2)\n",
        "\n",
        "x = int(input())\n",
        "y = int(input())\n",
        "z = int(input())\n",
        "\n",
        "print(\"Sum = \",sum(x,y,z))\n",
        "print(\"Average = \",average(x,y,z))\n",
        "print(\"Sum of squares = \",square(x,y,z))"
      ],
      "metadata": {
        "colab": {
          "base_uri": "https://localhost:8080/"
        },
        "id": "0pAY7YaPiTY-",
        "outputId": "aff9a002-2d9f-4a89-9355-830b4d462425"
      },
      "execution_count": 2,
      "outputs": [
        {
          "output_type": "stream",
          "name": "stdout",
          "text": [
            "5\n",
            "5\n",
            "5\n",
            "Sum =  15\n",
            "Average =  5.0\n",
            "Sum of squares =  75.0\n"
          ]
        }
      ]
    }
  ]
}