{
  "nbformat": 4,
  "nbformat_minor": 0,
  "metadata": {
    "colab": {
      "provenance": [],
      "authorship_tag": "ABX9TyOLQTeIDa/oy5ipwKSjh/EV",
      "include_colab_link": true
    },
    "kernelspec": {
      "name": "python3",
      "display_name": "Python 3"
    },
    "language_info": {
      "name": "python"
    }
  },
  "cells": [
    {
      "cell_type": "markdown",
      "metadata": {
        "id": "view-in-github",
        "colab_type": "text"
      },
      "source": [
        "<a href=\"https://colab.research.google.com/github/KarlSiegfredReyes/PLNG211-QC/blob/main/10_8_2022.ipynb\" target=\"_parent\"><img src=\"https://colab.research.google.com/assets/colab-badge.svg\" alt=\"Open In Colab\"/></a>"
      ]
    },
    {
      "cell_type": "code",
      "execution_count": 1,
      "metadata": {
        "colab": {
          "base_uri": "https://localhost:8080/"
        },
        "id": "VrACb_GVOiuI",
        "outputId": "91569177-fe6b-410d-c153-37bef7cc7052"
      },
      "outputs": [
        {
          "output_type": "stream",
          "name": "stdout",
          "text": [
            "Enter your age\n",
            "69\n",
            "You are eligible to vote\n",
            "Enter a number\n",
            "420\n",
            "Number is positive\n",
            "3\n"
          ]
        }
      ],
      "source": [
        "print(\"Enter your age\")\n",
        "x = int(input())\n",
        "if (x>=18):\n",
        "    print(\"You are eligible to vote\")\n",
        "else:\n",
        "    print(\"You are ineligible to vote\")\n",
        "\n",
        "print(\"Enter a number\")\n",
        "x = int(input())\n",
        "if (x>0):\n",
        "    print(\"Number is positive\")\n",
        "elif(x<0):\n",
        "    print(\"Number is negative\")\n",
        "else:\n",
        "    print(\"Number is zero\")\n",
        "\n",
        "x = 10000\n",
        "while x!=0:\n",
        "    x-=1\n",
        "    if x ==3:\n",
        "        print(x)\n",
        "        break;\n"
      ]
    }
  ]
}