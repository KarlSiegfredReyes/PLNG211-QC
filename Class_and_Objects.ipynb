{
  "nbformat": 4,
  "nbformat_minor": 0,
  "metadata": {
    "colab": {
      "provenance": [],
      "authorship_tag": "ABX9TyP9wYJIrWvBW92HMrWJVCdT",
      "include_colab_link": true
    },
    "kernelspec": {
      "name": "python3",
      "display_name": "Python 3"
    },
    "language_info": {
      "name": "python"
    }
  },
  "cells": [
    {
      "cell_type": "markdown",
      "metadata": {
        "id": "view-in-github",
        "colab_type": "text"
      },
      "source": [
        "<a href=\"https://colab.research.google.com/github/KarlSiegfredReyes/PLNG211-QC/blob/main/Class_and_Objects.ipynb\" target=\"_parent\"><img src=\"https://colab.research.google.com/assets/colab-badge.svg\" alt=\"Open In Colab\"/></a>"
      ]
    },
    {
      "cell_type": "code",
      "execution_count": 2,
      "metadata": {
        "colab": {
          "base_uri": "https://localhost:8080/"
        },
        "id": "nJRJHzDQS_xY",
        "outputId": "df1849ce-f087-485d-ecde-c6a53c14808c"
      },
      "outputs": [
        {
          "output_type": "stream",
          "name": "stdout",
          "text": [
            "Width of rectangle: 5\n",
            "Length of rectangle: 5\n",
            "Area of rectangle:  25\n",
            "Perimeter of rectangle:  20\n"
          ]
        }
      ],
      "source": [
        "class rectangle():\n",
        "    def __init__(rec,width,length):\n",
        "        rec.width = width\n",
        "        rec.length = length\n",
        "\n",
        "    def perimeter(rec):\n",
        "        return(rec.width + rec.length)*2\n",
        "\n",
        "    def area(rec):\n",
        "        return rec.width * rec.length\n",
        "\n",
        "recWidth = int(input(\"Width of rectangle: \"))\n",
        "recLength = int(input(\"Length of rectangle: \"))\n",
        "\n",
        "rectangleAreaPerimeter = rectangle(recWidth,recLength)\n",
        "\n",
        "print(\"Area of rectangle: \",rectangleAreaPerimeter.area())\n",
        "print(\"Perimeter of rectangle: \", rectangleAreaPerimeter.perimeter())\n"
      ]
    }
  ]
}